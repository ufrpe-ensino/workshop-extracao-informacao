{
  "nbformat": 4,
  "nbformat_minor": 0,
  "metadata": {
    "colab": {
      "name": "04-Exercicio-LeNER-BR.ipynb",
      "provenance": [],
      "collapsed_sections": [],
      "authorship_tag": "ABX9TyOkg8j2261PrIKgXBd1PZyZ",
      "include_colab_link": true
    },
    "kernelspec": {
      "name": "python3",
      "display_name": "Python 3"
    },
    "language_info": {
      "name": "python"
    }
  },
  "cells": [
    {
      "cell_type": "markdown",
      "metadata": {
        "id": "view-in-github",
        "colab_type": "text"
      },
      "source": [
        "<a href=\"https://colab.research.google.com/github/ufrpe-ensino/workshop-extracao-informacao/blob/main/notebooks/04_Exercicio_LeNER_BR.ipynb\" target=\"_parent\"><img src=\"https://colab.research.google.com/assets/colab-badge.svg\" alt=\"Open In Colab\"/></a>"
      ]
    },
    {
      "cell_type": "markdown",
      "source": [
        "# Exercício: Treinar um modelo de NER Jurídico"
      ],
      "metadata": {
        "id": "cH17bn9cim3d"
      }
    },
    {
      "cell_type": "markdown",
      "source": [
        "## Descrição\n",
        "\n",
        "Base de dados: LeNER-BR"
      ],
      "metadata": {
        "id": "lIr5dZT3itfS"
      }
    },
    {
      "cell_type": "markdown",
      "source": [
        "## Load dataset"
      ],
      "metadata": {
        "id": "Z9UB7cszi0qk"
      }
    },
    {
      "cell_type": "code",
      "source": [
        "!git clone https://github.com/peluz/lener-br.git"
      ],
      "metadata": {
        "id": "cKxjzhf-qDFe"
      },
      "execution_count": null,
      "outputs": []
    },
    {
      "cell_type": "markdown",
      "source": [
        "## Convert to Spacy Format\n",
        "\n",
        "Podemos usar o comando spacy [convert](https://spacy.io/api/cli#convert) para isso:\n",
        "\n",
        "```!spacy convert <nome-do-arquivo> -c conll <diretorio-de-saida>```\n",
        "\n",
        "Sugestão: converter apenas alguns arquivos."
      ],
      "metadata": {
        "id": "1uOFu3imqQss"
      }
    },
    {
      "cell_type": "code",
      "source": [
        "import os\n",
        "os.makedirs('./train')"
      ],
      "metadata": {
        "id": "pvcGZHKeqt1u"
      },
      "execution_count": null,
      "outputs": []
    },
    {
      "cell_type": "code",
      "source": [
        ""
      ],
      "metadata": {
        "id": "ZliaM3BlqMIP"
      },
      "execution_count": null,
      "outputs": []
    },
    {
      "cell_type": "markdown",
      "source": [
        "## Treinar o modelo"
      ],
      "metadata": {
        "id": "KBpqaVdbi9FY"
      }
    },
    {
      "cell_type": "code",
      "source": [
        ""
      ],
      "metadata": {
        "id": "WBdNzMhFr7-l"
      },
      "execution_count": null,
      "outputs": []
    },
    {
      "cell_type": "markdown",
      "source": [
        "## Usar o modelo treinado"
      ],
      "metadata": {
        "id": "LDnTdmdTi_rt"
      }
    },
    {
      "cell_type": "code",
      "source": [
        ""
      ],
      "metadata": {
        "id": "oBrQBv1qjBUL"
      },
      "execution_count": null,
      "outputs": []
    },
    {
      "cell_type": "code",
      "source": [
        "text = \"\"\"Acordam os Senhores Desembargadores da 8ª TURMA CÍVEL do\n",
        "Tribunal de Justiça do Distrito Federal e Territórios, NÍDIA CORRÊA LIMA -\n",
        "Relatora, DIAULAS COSTA RIBEIRO - 1º Vogal, EUSTÁQUIO DE CASTRO - 2º\n",
        "Vogal, sob a presidência do Senhor Desembargador DIAULAS COSTA RIBEIRO,\n",
        "em proferir a seguinte decisão: RECURSO DE APELAÇÃO CONHECIDO E NÃO\n",
        "PROVIDO. UNÂNIME., de acordo com a ata do julgamento e notas taquigráficas.\n",
        "Brasilia(DF), 15 de Março de 2018.\n",
        "Documento Assinado Eletronicamente\n",
        "NÍDIA CORRÊA LIMA\n",
        "Relatora\n",
        "Código de Verificação :2018ACOIJG91GM498IVMWX8ID8A\n",
        "GABINETE DA DESEMBARGADORA NÍDIA CORRÊA LIMA 2\"\"\""
      ],
      "metadata": {
        "id": "0q8u3UGCsKNA"
      },
      "execution_count": null,
      "outputs": []
    },
    {
      "cell_type": "code",
      "source": [
        ""
      ],
      "metadata": {
        "id": "xmbFDye1syAU"
      },
      "execution_count": null,
      "outputs": []
    }
  ]
}